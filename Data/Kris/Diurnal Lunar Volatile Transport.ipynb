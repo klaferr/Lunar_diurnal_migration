{
 "cells": [
  {
   "cell_type": "code",
   "execution_count": 23,
   "id": "b43dd6c4",
   "metadata": {},
   "outputs": [],
   "source": [
    "# This notebook runs a test code\n",
    "import numpy as np\n",
    "import matplotlib.pyplot as plt\n",
    "import random \n",
    "\n",
    "# load in custom library\n",
    "import lunar_processes as pr\n",
    "\n",
    "# for testing time\n",
    "import time\n"
   ]
  },
  {
   "cell_type": "code",
   "execution_count": 24,
   "id": "02ee0306",
   "metadata": {},
   "outputs": [
    {
     "data": {
      "text/plain": [
       "0.05000000000000071"
      ]
     },
     "execution_count": 24,
     "metadata": {},
     "output_type": "execute_result"
    }
   ],
   "source": [
    "24.05%24"
   ]
  },
  {
   "cell_type": "code",
   "execution_count": 25,
   "id": "dc53b589",
   "metadata": {},
   "outputs": [],
   "source": [
    "# Establish run parameters\n",
    "# Initial longitude of noon\n",
    "local_noon = 0\n",
    "\n",
    "# Run time in lunar hours\n",
    "t = 24\n",
    "\n",
    "# Size of time step in lunar hours\n",
    "dt = 1 \n",
    "\n",
    "# Number of particles\n",
    "n = 10\n",
    "\n",
    "# "
   ]
  },
  {
   "cell_type": "code",
   "execution_count": 19,
   "id": "4454a2bc",
   "metadata": {},
   "outputs": [
    {
     "ename": "IndentationError",
     "evalue": "unexpected indent (2792452419.py, line 2)",
     "output_type": "error",
     "traceback": [
      "\u001b[0;36m  Input \u001b[0;32mIn [19]\u001b[0;36m\u001b[0m\n\u001b[0;31m    get_ipython().run_line_magic('pinfo', 'matters')\u001b[0m\n\u001b[0m    ^\u001b[0m\n\u001b[0;31mIndentationError\u001b[0m\u001b[0;31m:\u001b[0m unexpected indent\n"
     ]
    }
   ],
   "source": [
    "# Establish plotting\n",
    "# What matters?\n",
    "\n",
    "#particles which survive the day\n",
    "\n",
    "#what the moon would look like observed at each hour\n",
    "\n",
    "#number cold trapped (polar, not night time. )\n",
    "\n",
    "#amount behind/at each terminator (longitude or time of day distribution)\n",
    "\n",
    "#particles that survive per timestep\n",
    "\n",
    "plt.figure(figsize=(5, 5), dpi=150)\n",
    "plt.hist(results[:, 4, :])\n",
    "plt.ylabel('Number of particles')\n",
    "plt.ylim((0, n))\n",
    "plt.xlabel('Local Noon')\n",
    "plt.xlim((0, 360))\n",
    "plt.show()\n",
    "\n",
    "\n",
    "\n",
    "# How many particles\n",
    "local_noons = np.arange(0, 360, 7.5)\n",
    "\n",
    "plt.figure(figsize=(5, 5), dpi=150)\n",
    "for i in range(int(t/dt)):\n",
    "    if i > 0:\n",
    "        mask = np.isnan(results[:, 4, i])\n",
    "        adj = results[:, 4, i]\n",
    "        adj[mask] = 1\n",
    "        hists = np.nansum(adj)\n",
    "    else:\n",
    "        hists = np.nansum(results[:, 4, i])\n",
    "    plt.bar(local_noons[i], n-hists, width=7.5, align='center', edgecolor='k', color='pink')\n",
    "plt.ylabel('Number of Particles')\n",
    "plt.xlabel('Longitude of Local Noon')\n",
    "plt.ylim((0, n))\n",
    "plt.xlim((0, 360))\n",
    "plt.show()\n",
    "\n",
    "\n",
    "\n",
    "\n",
    "#def output_plots():\n",
    "    \n",
    "    \n",
    "# I want to plot: \n",
    "## number of particles vs timestep\n",
    "\n",
    "\n",
    "## final position latitude and longitude map (unclear how to do this)\n",
    "    \n"
   ]
  },
  {
   "cell_type": "code",
   "execution_count": 4,
   "id": "642b256a",
   "metadata": {},
   "outputs": [
    {
     "data": {
      "text/plain": [
       "'\\nparticle number 1,  [latitude, longitude, time of day, temperature, condition, tot time/step, hops per timestep, distance/step], [timesteps]\\n2, [above], [timesteps]\\n3, [], [timesteps]\\n..., [], [timesteps]\\nn, [], [timesteps]\\n\\n'"
      ]
     },
     "execution_count": 4,
     "metadata": {},
     "output_type": "execute_result"
    }
   ],
   "source": [
    "# Run code\n",
    "# output format:\n",
    "\"\"\"\n",
    "particle number 1,  [latitude, longitude, time of day, temperature, condition, tot time/step, hops per timestep, distance/step], [timesteps]\n",
    "2, [above], [timesteps]\n",
    "3, [], [timesteps]\n",
    "..., [], [timesteps]\n",
    "n, [], [timesteps]\n",
    "\n",
    "\"\"\"\n"
   ]
  },
  {
   "cell_type": "code",
   "execution_count": 5,
   "id": "4a634c27",
   "metadata": {},
   "outputs": [],
   "source": [
    "# Save results\n"
   ]
  },
  {
   "cell_type": "code",
   "execution_count": 6,
   "id": "7b752ed5",
   "metadata": {},
   "outputs": [],
   "source": [
    "# Save plots\n"
   ]
  },
  {
   "cell_type": "code",
   "execution_count": 26,
   "id": "f7a42415",
   "metadata": {},
   "outputs": [],
   "source": [
    "# establish particles\n",
    "\n",
    "particles = np.zeros((n, 3)) # latitude, longitude,  tod\n",
    "particles[:, 0] = np.deg2rad(random.choices(range(-90, 90), k=n)) # latitude in degrees\n",
    "particles[:, 1] = np.deg2rad(random.choices(range(0, 360), k=n)) # longitude in degrees\n",
    "particles[:, 2] = (12+(((np.rad2deg(particles[:, 1]-local_noon))*24)/360))%24 # tod, based on where local noon is\n"
   ]
  },
  {
   "cell_type": "code",
   "execution_count": 27,
   "id": "9f314d96",
   "metadata": {
    "scrolled": true
   },
   "outputs": [
    {
     "name": "stdout",
     "output_type": "stream",
     "text": [
      "particle 0\n",
      "Total simulation time: 543.4\n",
      "Lunar time step: 1.06e+05\n"
     ]
    }
   ],
   "source": [
    "# run\n",
    "results = np.zeros((n, 8, int(t/dt)))\n",
    "\n",
    "# start timer\n",
    "st = time.time()\n",
    "\n",
    "# Run model for n particles, 1 lunar day time step 1/2 hr (lunar)\n",
    "for i in range(0, n, 1):\n",
    "    results[i, :, :] = pr.Model_MonteCarlo(particles[i, :], dt, t, local_noon)\n",
    "    if i % 10 ==0:\n",
    "            print('particle', i)\n",
    "\n",
    "print('Total simulation time: %2.1f'%(time.time() - st))\n",
    "\n",
    "print('Lunar time step: %3.2e'%(pr.sec_per_hour_M*dt))"
   ]
  },
  {
   "cell_type": "code",
   "execution_count": 28,
   "id": "5d0a6c3d",
   "metadata": {},
   "outputs": [],
   "source": [
    "header = \"latitude, longitude, time of day, temperature, condition, tot time/step, hops per timestep, distance/step\"\n",
    "\n",
    "loc = '/Users/laferrierek/Box Sync/Desktop/Research/Moon_Transport/Writing/Proposals/'\n",
    "# write file to .npy, .fits, .txt and .dat\n",
    "\n",
    "np.save(loc+'testrun3.npy', results)\n",
    "\n",
    "from astropy.io import fits\n",
    "hdu = fits.PrimaryHDU(results)\n",
    "#hdul = fits.HDUList([hdu])\n",
    "#hdul.writeto('new1.fits')\n",
    "hdu.writeto(loc+'testrun3.fits')\n",
    "\n",
    "#np.savetxt(loc+'testrun1.txt', results, delimiter=',')\n",
    "\n",
    "f=open(loc+\"testrun3.dat\",\"wb\")\n",
    "\n",
    "f.write(results)\n",
    "\n",
    "f.close()"
   ]
  },
  {
   "cell_type": "code",
   "execution_count": 9,
   "id": "1a2b77af",
   "metadata": {},
   "outputs": [
    {
     "name": "stdout",
     "output_type": "stream",
     "text": [
      "Latitude: 18, Longitude: 351\n"
     ]
    }
   ],
   "source": [
    "print('Latitude: %2.0f, Longitude: %2.0f' %(np.rad2deg(results[1, 0, 0]), np.rad2deg(results[1, 1, 0])))"
   ]
  },
  {
   "cell_type": "code",
   "execution_count": 10,
   "id": "ac6e50b6",
   "metadata": {},
   "outputs": [],
   "source": [
    "# for continue:\n",
    "#Total simulation time: 312.8\n",
    "#Lunar time step: 5.32e+04\n",
    "    \n",
    "# what does this mean?\n",
    "# Avg ~31 seconds per particle\n",
    "# Step ran every half lunar hour\n",
    "\n",
    "# for conditions = False:\n",
    "# prints lacking tod data more often. \n",
    "#Total simulation time: 533.8\n",
    "#Lunar time step: 5.32e+04\n",
    "\n",
    "\n",
    "# What does this suggest for larger runs?\n",
    "# Max run on laptop is about 10^4, which will take a few days. Not sure on trash can or cluster"
   ]
  },
  {
   "cell_type": "code",
   "execution_count": 11,
   "id": "a06f0609",
   "metadata": {},
   "outputs": [
    {
     "data": {
      "image/png": "[encoded data removed]",
      "text/plain": [
       "<Figure size 750x750 with 1 Axes>"
      ]
     },
     "metadata": {
      "needs_background": "light"
     },
     "output_type": "display_data"
    }
   ],
   "source": [
    "# compare desorption_R21 time at low Temps < ~110 K and tau_sub\n",
    "# plot rates vs temperature\n",
    "\n",
    "Temperature = np.arange(50, 450, 1)\n",
    "R_bar = pr.R/(pr.m_H2O/1000)\n",
    "pMass = pr.mass\n",
    "    \n",
    "Ed = 0.6\n",
    "tau_surf = pr.desorption_R21(Temperature, Ed)\n",
    "\n",
    "Pv = pr.clapyeron(pr.triple_P, pr.triple_T, R_bar, pr.Lc, Temperature)\n",
    "sub = pr.sublimation_surf(Pv, Temperature, pMass*pr.Avo)\n",
    "\n",
    "perc_mono = 0.01\n",
    "theta_mon = 10**19 * perc_mono\n",
    "tau_sub = (theta_mon * pMass) / sub\n",
    "\n",
    "#print('Tau_Sub:', tau_sub)\n",
    "#print('Tau_Surf:', tau_surf)\n",
    "\n",
    "plt.figure(figsize=(5, 5), dpi=150)\n",
    "plt.plot(Temperature, tau_sub, c='r', label='Sublimation')\n",
    "plt.plot(Temperature, tau_surf, c='g', label='Desorption')\n",
    "plt.hlines(pr.sec_per_hour_M, 0, 500, colors='k', linestyle='dashed')\n",
    "plt.ylabel('Residence Time')\n",
    "plt.xlabel('Temperature (K)')\n",
    "#plt.ylim((0, 10^10))\n",
    "plt.yscale('log')\n",
    "plt.xlim((50, 450))\n",
    "plt.show()"
   ]
  },
  {
   "cell_type": "code",
   "execution_count": 12,
   "id": "6ceacb5d",
   "metadata": {
    "scrolled": true
   },
   "outputs": [
    {
     "data": {
      "image/png": "[encoded data removed]",
      "text/plain": [
       "<Figure size 750x750 with 1 Axes>"
      ]
     },
     "metadata": {
      "needs_background": "light"
     },
     "output_type": "display_data"
    }
   ],
   "source": [
    "\n"
   ]
  },
  {
   "cell_type": "code",
   "execution_count": null,
   "id": "796c1ec9",
   "metadata": {},
   "outputs": [],
   "source": []
  }
 ],
 "metadata": {
  "kernelspec": {
   "display_name": "Python 3 (ipykernel)",
   "language": "python",
   "name": "python3"
  },
  "language_info": {
   "codemirror_mode": {
    "name": "ipython",
    "version": 3
   },
   "file_extension": ".py",
   "mimetype": "text/x-python",
   "name": "python",
   "nbconvert_exporter": "python",
   "pygments_lexer": "ipython3",
   "version": "3.9.12"
  }
 },
 "nbformat": 4,
 "nbformat_minor": 5
}
